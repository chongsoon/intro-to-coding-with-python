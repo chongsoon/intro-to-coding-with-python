{
 "cells": [
  {
   "cell_type": "markdown",
   "metadata": {},
   "source": [
    "# 2. Fun with Variables\n",
    "\n",
    "<a href=\"https://colab.research.google.com/github/chongsoon/intro-to-coding-with-python/blob/main/2-Variables-Types.ipynb\" target=\"_parent\">\n",
    "  <img src=\"https://colab.research.google.com/assets/colab-badge.svg\" alt=\"Open In Colab\"/>\n",
    "</a>\n",
    "\n",
    "A variable is a memory location that holds data. A variable has a type, such as String, integer, float, and many others.\n",
    "\n",
    "First, we have to declare a variable (String) as follows:"
   ]
  },
  {
   "cell_type": "code",
   "execution_count": null,
   "metadata": {},
   "outputs": [],
   "source": [
    "name = \"John\""
   ]
  },
  {
   "cell_type": "markdown",
   "metadata": {},
   "source": [
    "Next, we want to use this variable. In this case, we want to greet the person."
   ]
  },
  {
   "cell_type": "code",
   "execution_count": null,
   "metadata": {},
   "outputs": [],
   "source": [
    "print(\"Hello \" + name + \"!\")"
   ]
  },
  {
   "cell_type": "markdown",
   "metadata": {},
   "source": [
    "## String Variables\n",
    "We have been printing String data so far. By now, you would have noticed that String is just text data. The following cells are some operations that you could do to a string variable. We start off with eliminating whitespaces from a string."
   ]
  },
  {
   "cell_type": "code",
   "execution_count": null,
   "metadata": {},
   "outputs": [],
   "source": [
    "sentence_with_too_many_spaces = \" Hello, how is your day?   \"\n",
    "print(sentence_with_too_many_spaces)\n",
    "\n",
    "# Use strip to eliminate starting and ending whitespaces.\n",
    "sentence_with_spaces_trimmed = sentence_with_too_many_spaces.strip()\n",
    "print(sentence_with_spaces_trimmed)"
   ]
  },
  {
   "cell_type": "markdown",
   "metadata": {},
   "source": [
    "Find out how many characters are in the string too!"
   ]
  },
  {
   "cell_type": "code",
   "execution_count": null,
   "metadata": {},
   "outputs": [],
   "source": [
    "print(\"This shows that our trimming works.\")\n",
    "print(len(sentence_with_too_many_spaces))\n",
    "print(len(sentence_with_spaces_trimmed))"
   ]
  },
  {
   "cell_type": "markdown",
   "metadata": {},
   "source": [
    "You could also replace a string within a string."
   ]
  },
  {
   "cell_type": "code",
   "execution_count": null,
   "metadata": {},
   "outputs": [],
   "source": [
    "greeting_morning = \"Good Morning!\"\n",
    "\n",
    "print(greeting_morning)\n",
    "\n",
    "greeting_night = greeting_morning.replace(\"Morning\", \"Night\")\n",
    "\n",
    "print(greeting_night)\n"
   ]
  },
  {
   "cell_type": "markdown",
   "metadata": {},
   "source": [
    "## Number Variables\n",
    "There are three number variable types in Python. They are Integer, Float, and Complex. We will just look at Integer and Float as they are the most commonly used:"
   ]
  },
  {
   "cell_type": "code",
   "execution_count": null,
   "metadata": {},
   "outputs": [],
   "source": [
    "some_int = 10\n",
    "print(some_int)\n",
    "\n",
    "some_float = 3.5\n",
    "print(some_float)\n"
   ]
  },
  {
   "cell_type": "markdown",
   "metadata": {},
   "source": [
    "We can also check the variable type by running type() function over the variables:"
   ]
  },
  {
   "cell_type": "code",
   "execution_count": null,
   "metadata": {},
   "outputs": [],
   "source": [
    "type(some_int)"
   ]
  },
  {
   "cell_type": "code",
   "execution_count": null,
   "metadata": {},
   "outputs": [],
   "source": [
    "type(some_float)"
   ]
  },
  {
   "cell_type": "markdown",
   "metadata": {},
   "source": [
    "We can perform operations on integer and float."
   ]
  },
  {
   "cell_type": "code",
   "execution_count": null,
   "metadata": {},
   "outputs": [],
   "source": [
    "int_a = 10\n",
    "int_b = 5\n",
    "\n",
    "print(\"addition :\", int_a + int_b)\n",
    "print(\"subtraction :\", int_a - int_b)\n",
    "print(\"multiplication :\", int_a * int_b)\n",
    "print(\"division :\", int_a / int_b)\n",
    "print(\"Notice how the division actually results in a float despite division of two integers.\")"
   ]
  },
  {
   "cell_type": "code",
   "execution_count": null,
   "metadata": {},
   "outputs": [],
   "source": [
    "float_a = 5.0\n",
    "\n",
    "print(\"addition :\", int_a * float_a)\n",
    "print(\"subtraction :\", int_a - float_a)\n",
    "print(\"Notice how you can perform operations betwwen integer and float, but the results will be in float.\")"
   ]
  },
  {
   "cell_type": "markdown",
   "metadata": {},
   "source": [
    "More operations with numbers.\n",
    "\n",
    "You can calculate exponents (**) and also find the remainder with modulo (%) operation."
   ]
  },
  {
   "cell_type": "code",
   "execution_count": null,
   "metadata": {},
   "outputs": [],
   "source": [
    "a = 10\n",
    "b = 3\n",
    "\n",
    "print(\"Exponent:\", a**2)\n",
    "print(\"Modulo:\", a%b)"
   ]
  },
  {
   "cell_type": "markdown",
   "metadata": {},
   "source": [
    "### Try it yourself: GST Calculator\n",
    "Now we shall try to write some code to calculate GST. \n",
    "\n",
    "1. Define a gst rate variable\n",
    "2. Define a price variable\n",
    "3. Define a gst_amt variable which should show the gst amount.\n",
    "\n",
    "The following is how we can get the gst amount:\n",
    "\\\\[gst\\_amt = price * gst\\\\]\n"
   ]
  },
  {
   "cell_type": "code",
   "execution_count": null,
   "metadata": {},
   "outputs": [],
   "source": [
    "#Define gst rate variable.\n",
    "\n",
    "#Define price variable.\n",
    "\n",
    "#Define gst_amt variable and perform the necessary amount.\n",
    "\n",
    "\n",
    "print(\"GST Rate:\", gst)\n",
    "print(\"Price:\", price)\n",
    "print(\"GST Amt:\", gst_amt)\n"
   ]
  },
  {
   "cell_type": "markdown",
   "metadata": {},
   "source": [
    "## Sequence Type Variables\n",
    "\n",
    "Sometimes, you want to store multiple items into one variable. \n",
    "\n",
    "An example would be, your shopping cart in online shopping platform. How would you keep track of items in the shopping cart? Assuming, you want to buy the follow:\n",
    "\n",
    "- Pen = \\$1\n",
    "- Calculator : \\$15\n",
    "- Exercise Book: \\$2"
   ]
  },
  {
   "cell_type": "markdown",
   "metadata": {},
   "source": [
    "By using what we learn previously, we might do something as follows:"
   ]
  },
  {
   "cell_type": "code",
   "execution_count": null,
   "metadata": {},
   "outputs": [],
   "source": [
    "price_pen = 1.0\n",
    "price_calculator = 15.0\n",
    "price_exercise_book = 2.0\n",
    "\n",
    "total_price = price_pen + price_exercise_book + price_calculator\n",
    "\n",
    "print('Total Price: ', total_price)"
   ]
  },
  {
   "cell_type": "markdown",
   "metadata": {},
   "source": [
    "If we want to add more items to the cart, we cannot possibly create all the variables, so we will use List or Dictionary to solve the problem."
   ]
  },
  {
   "cell_type": "markdown",
   "metadata": {},
   "source": [
    "### List\n",
    "\n",
    "List is a type which can store multiple values. Lets see an example with the shopping cart below:"
   ]
  },
  {
   "cell_type": "code",
   "execution_count": null,
   "metadata": {},
   "outputs": [],
   "source": [
    "#store pen, calculator and exercise book prices.\n",
    "shopping_cart = [1.0,15.0,2.0]"
   ]
  },
  {
   "cell_type": "markdown",
   "metadata": {},
   "source": [
    "We can access the item in the list like as follows:\n",
    "\n",
    "Take note on how we access items in the list. The first item is usually accessed with 0. A more technical term you may encounter is zero-based indexing."
   ]
  },
  {
   "cell_type": "code",
   "execution_count": null,
   "metadata": {},
   "outputs": [],
   "source": [
    "print(\"Pen Price: \", shopping_cart[0])\n",
    "print(\"Calculator Price: \", shopping_cart[1])\n",
    "print(\"Exercise Book Price: \", shopping_cart[2])"
   ]
  },
  {
   "cell_type": "markdown",
   "metadata": {},
   "source": [
    "If you want to know how many items are there in a list, you can use 'len' as shown below"
   ]
  },
  {
   "cell_type": "code",
   "execution_count": null,
   "metadata": {},
   "outputs": [],
   "source": [
    "print('Length of list:', len(shopping_cart))"
   ]
  },
  {
   "cell_type": "markdown",
   "metadata": {},
   "source": [
    "You can get also use this information to get the last item."
   ]
  },
  {
   "cell_type": "code",
   "execution_count": null,
   "metadata": {},
   "outputs": [],
   "source": [
    "size_of_cart = len(shopping_cart)\n",
    "\n",
    "print('Last item in the list:', shopping_cart[size_of_cart])"
   ]
  },
  {
   "cell_type": "markdown",
   "metadata": {},
   "source": [
    "Wait a min, something is wrong... What does this mean? How can we correct this problem and get the last item? Amend the code above. Hint: Refer to the cells above, the answer is there."
   ]
  },
  {
   "cell_type": "markdown",
   "metadata": {},
   "source": [
    "Apart from using the length/size of the list to get the last item. In python, you can use the following to get the last item of a list."
   ]
  },
  {
   "cell_type": "code",
   "execution_count": null,
   "metadata": {},
   "outputs": [],
   "source": [
    "print('Last item in the list:', shopping_cart[-1])"
   ]
  },
  {
   "cell_type": "markdown",
   "metadata": {},
   "source": [
    "Finally, how do we add items into a list? Let us try adding a stapler that cost 3 dollars into the list."
   ]
  },
  {
   "cell_type": "code",
   "execution_count": null,
   "metadata": {},
   "outputs": [],
   "source": [
    "shopping_cart.append(3.0)\n",
    "print('Stapler Price: ', shopping_cart[3])"
   ]
  },
  {
   "cell_type": "markdown",
   "metadata": {},
   "source": [
    "Hmmm...all is well, but it gets quite difficult to know which item in the list is what. We can have two lists, one to record the item name, and the other the price.\n",
    "\n",
    "Is there an easier way?"
   ]
  },
  {
   "cell_type": "markdown",
   "metadata": {},
   "source": [
    "### Dictionary\n",
    "\n",
    "We can use Dictionary to store these information. Dictionary is a type which stores key-value pairs. Let us see some example below."
   ]
  },
  {
   "cell_type": "code",
   "execution_count": null,
   "metadata": {},
   "outputs": [],
   "source": [
    "# Declare first dictionary.\n",
    "number_dict = {'one':1,\n",
    "               'two':2,\n",
    "               'three':3               \n",
    "              }"
   ]
  },
  {
   "cell_type": "code",
   "execution_count": null,
   "metadata": {},
   "outputs": [],
   "source": [
    "print(number_dict['one'])"
   ]
  },
  {
   "cell_type": "code",
   "execution_count": null,
   "metadata": {},
   "outputs": [],
   "source": [
    "sum_of_all_numbers = number_dict['one'] + number_dict['two'] + number_dict['three']\n",
    "print('total sum is', sum_of_all_numbers)"
   ]
  },
  {
   "cell_type": "markdown",
   "metadata": {},
   "source": [
    "Let us see how we can add an item into the dictionary."
   ]
  },
  {
   "cell_type": "code",
   "execution_count": null,
   "metadata": {},
   "outputs": [],
   "source": [
    "#Adding items into dictionary\n",
    "number_dict['four'] = 4\n",
    "\n",
    "print(number_dict)"
   ]
  },
  {
   "cell_type": "markdown",
   "metadata": {},
   "source": [
    "We would also want to remove items from dictionary."
   ]
  },
  {
   "cell_type": "code",
   "execution_count": null,
   "metadata": {},
   "outputs": [],
   "source": [
    "#Removing three from the dictionary.\n",
    "number_dict.pop('three')\n",
    "print(number_dict)"
   ]
  },
  {
   "cell_type": "markdown",
   "metadata": {},
   "source": [
    "### Try it yourself: Shopping Cart with Dictionary\n",
    "\n",
    "Try creating a dictionary that store the items and prices. Then sum them up and display the result."
   ]
  },
  {
   "cell_type": "code",
   "execution_count": null,
   "metadata": {},
   "outputs": [],
   "source": [
    "#Declare shopping cart dictionary\n",
    "#Replace None with your work.\n",
    "cart_dict = None \n",
    "\n",
    "cart_item_sum = None\n",
    "\n",
    "print('Total price in the cart is as follows:', cart_item_sum)"
   ]
  },
  {
   "cell_type": "markdown",
   "metadata": {},
   "source": [
    "All is fine and dandy, but sometimes you will purchase multiple quantity of each item, how would you then modify the above to handle such a problem?"
   ]
  },
  {
   "cell_type": "markdown",
   "metadata": {},
   "source": [
    "# End\n",
    "\n",
    "So far we have looked at the common used types.\n",
    "\n",
    "We have seen String and Number types, and how you could use them to do calculation. We have also looked at types that can store multiple data and expand our tooisets to solve problems.\n",
    "\n",
    "Next, we will see how we can use loops to access and process data in sequence types."
   ]
  },
  {
   "cell_type": "code",
   "execution_count": null,
   "metadata": {},
   "outputs": [],
   "source": []
  }
 ],
 "metadata": {
  "kernelspec": {
   "display_name": "Python 3",
   "language": "python",
   "name": "python3"
  },
  "language_info": {
   "codemirror_mode": {
    "name": "ipython",
    "version": 3
   },
   "file_extension": ".py",
   "mimetype": "text/x-python",
   "name": "python",
   "nbconvert_exporter": "python",
   "pygments_lexer": "ipython3",
   "version": "3.9.6"
  }
 },
 "nbformat": 4,
 "nbformat_minor": 4
}
