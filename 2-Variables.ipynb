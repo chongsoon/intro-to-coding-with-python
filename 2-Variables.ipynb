{
 "cells": [
  {
   "cell_type": "markdown",
   "metadata": {},
   "source": [
    "# Fun with Variables\n",
    "\n",
    "[![Open In Colab](https://colab.research.google.com/assets/colab-badge.svg)](https://colab.research.google.com/github/chongsoon/intro-to-coding-with-python/blob/main/2-Variables.ipynb)\n",
    "\n",
    "A variable is a memory location that holds data. A variable has a type, such as String, integer, float, and many others.\n",
    "\n",
    "First, we have to declare a variable (String) as follows:"
   ]
  },
  {
   "cell_type": "code",
   "execution_count": null,
   "metadata": {},
   "outputs": [],
   "source": [
    "name = \"John\""
   ]
  },
  {
   "cell_type": "markdown",
   "metadata": {},
   "source": [
    "Next, we want to use this variable. In this case, we want to greet the person."
   ]
  },
  {
   "cell_type": "code",
   "execution_count": null,
   "metadata": {},
   "outputs": [],
   "source": [
    "print(\"Hello \" + name + \"!\")"
   ]
  },
  {
   "cell_type": "markdown",
   "metadata": {},
   "source": [
    "## String Variables\n",
    "We have been printing String data so far. By now, you would have noticed that String is just text data. The following cells are some operations that you could do to a string variable. We start off with eliminating whitespaces from a string."
   ]
  },
  {
   "cell_type": "code",
   "execution_count": null,
   "metadata": {},
   "outputs": [],
   "source": [
    "sentence_with_too_many_spaces = \" Hello, how is your day?   \"\n",
    "print(sentence_with_too_many_spaces)\n",
    "\n",
    "# Use strip to eliminate starting and ending whitespaces.\n",
    "sentence_with_spaces_trimmed = sentence_with_too_many_spaces.strip()\n",
    "print(sentence_with_spaces_trimmed)"
   ]
  },
  {
   "cell_type": "markdown",
   "metadata": {},
   "source": [
    "Find out how many characters are in the string too!"
   ]
  },
  {
   "cell_type": "code",
   "execution_count": null,
   "metadata": {},
   "outputs": [],
   "source": [
    "print(\"This shows that our trimming works.\")\n",
    "print(len(sentence_with_too_many_spaces))\n",
    "print(len(sentence_with_spaces_trimmed))"
   ]
  },
  {
   "cell_type": "markdown",
   "metadata": {},
   "source": [
    "You could also replace a string within a string."
   ]
  },
  {
   "cell_type": "code",
   "execution_count": null,
   "metadata": {},
   "outputs": [],
   "source": [
    "greeting_morning = \"Good Morning!\"\n",
    "\n",
    "print(greeting_morning)\n",
    "\n",
    "greeting_night = greeting_morning.replace(\"Morning\", \"Night\")\n",
    "\n",
    "print(greeting_night)\n"
   ]
  },
  {
   "cell_type": "markdown",
   "metadata": {},
   "source": [
    "## Number Variables\n",
    "There are three number variable types in Python. They are Integer, Float, and Complex. We will just look at Integer and Float as they are the most commonly used:"
   ]
  },
  {
   "cell_type": "code",
   "execution_count": null,
   "metadata": {},
   "outputs": [],
   "source": [
    "some_int = 10\n",
    "print(some_int)\n",
    "\n",
    "some_float = 3.5\n",
    "print(some_float)\n"
   ]
  },
  {
   "cell_type": "markdown",
   "metadata": {},
   "source": [
    "We can also check the variable type by running type() function over the variables:"
   ]
  },
  {
   "cell_type": "code",
   "execution_count": null,
   "metadata": {},
   "outputs": [],
   "source": [
    "type(some_int)"
   ]
  },
  {
   "cell_type": "code",
   "execution_count": null,
   "metadata": {},
   "outputs": [],
   "source": [
    "type(some_float)"
   ]
  },
  {
   "cell_type": "markdown",
   "metadata": {},
   "source": [
    "We can perform operations on integer and float."
   ]
  },
  {
   "cell_type": "code",
   "execution_count": null,
   "metadata": {},
   "outputs": [],
   "source": [
    "int_a = 10\n",
    "int_b = 5\n",
    "\n",
    "print(\"addition :\", int_a + int_b)\n",
    "print(\"subtraction :\", int_a - int_b)\n",
    "print(\"multiplication :\", int_a * int_b)\n",
    "print(\"division :\", int_a / int_b)\n",
    "print(\"Notice how the division actually results in a float despite division of two integers.\")"
   ]
  },
  {
   "cell_type": "code",
   "execution_count": null,
   "metadata": {},
   "outputs": [],
   "source": [
    "float_a = 5.0\n",
    "\n",
    "print(\"addition :\", int_a * float_a)\n",
    "print(\"subtraction :\", int_a - float_a)\n",
    "print(\"Notice how you can perform operations betwwen integer and float, but the results will be in float.\")"
   ]
  },
  {
   "cell_type": "markdown",
   "metadata": {},
   "source": [
    "More operations with numbers.\n",
    "\n",
    "You can calculate exponents (**) and also find the remainder with modulo (%) operation."
   ]
  },
  {
   "cell_type": "code",
   "execution_count": null,
   "metadata": {},
   "outputs": [],
   "source": [
    "a = 10\n",
    "b = 3\n",
    "\n",
    "print(\"Exponent:\", a**2)\n",
    "print(\"Modulo:\", a%b)"
   ]
  },
  {
   "cell_type": "markdown",
   "metadata": {},
   "source": [
    "### Try it yourself: GST Calculator\n",
    "Now we shall try to write some code to calculate GST. \n",
    "\n",
    "1. Define a gst rate variable\n",
    "2. Define a price variable\n",
    "3. Define a gst_amt variable which should show the gst amount.\n",
    "\n",
    "The following is how we can get the gst amount:\n",
    "\\\\[gst\\_amt = price * gst\\\\]\n"
   ]
  },
  {
   "cell_type": "code",
   "execution_count": null,
   "metadata": {},
   "outputs": [],
   "source": [
    "#Define gst rate variable.\n",
    "\n",
    "#Define price variable.\n",
    "\n",
    "#Define gst_amt variable and perform the necessary amount.\n",
    "\n",
    "\n",
    "print(\"GST Rate:\", gst)\n",
    "print(\"Price:\", price)\n",
    "print(\"GST Amt:\", gst_amt)\n"
   ]
  },
  {
   "cell_type": "code",
   "execution_count": null,
   "metadata": {},
   "outputs": [],
   "source": []
  }
 ],
 "metadata": {
  "kernelspec": {
   "display_name": "Python 3",
   "language": "python",
   "name": "python3"
  },
  "language_info": {
   "codemirror_mode": {
    "name": "ipython",
    "version": 3
   },
   "file_extension": ".py",
   "mimetype": "text/x-python",
   "name": "python",
   "nbconvert_exporter": "python",
   "pygments_lexer": "ipython3",
   "version": "3.7.6"
  }
 },
 "nbformat": 4,
 "nbformat_minor": 4
}
