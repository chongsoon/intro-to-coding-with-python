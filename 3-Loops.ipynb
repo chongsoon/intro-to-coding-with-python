{
 "cells": [
  {
   "cell_type": "markdown",
   "id": "1b806811",
   "metadata": {
    "tags": []
   },
   "source": [
    "# 3. Loops\n",
    "\n",
    "<a href=\"https://colab.research.google.com/github/chongsoon/intro-to-coding-with-python/blob/main/3-Loops.ipynb\" target=\"_parent\">\n",
    "  <img src=\"https://colab.research.google.com/assets/colab-badge.svg\" alt=\"Open In Colab\"/>\n",
    "</a>\n",
    "\n",
    "As per the previous notebook, we came across sequence types. A lot of times, we have to go through each item in a list and process it. This notebook will introduce you to loops that would help you with that. \n",
    "\n",
    "There are two types of loops, \"for\" and \"while\" loops. Lets go through them."
   ]
  },
  {
   "cell_type": "markdown",
   "id": "f5334855",
   "metadata": {},
   "source": [
    "## For Loop\n",
    "\n",
    "Lets count numbers by using \"for\" loop"
   ]
  },
  {
   "cell_type": "code",
   "execution_count": null,
   "id": "60ceda1e",
   "metadata": {},
   "outputs": [],
   "source": [
    "for i in range(5):\n",
    "  print(i)"
   ]
  },
  {
   "cell_type": "markdown",
   "id": "007989f2",
   "metadata": {},
   "source": [
    "By the way, do you know String is a sequence of characters?"
   ]
  },
  {
   "cell_type": "code",
   "execution_count": null,
   "id": "7528c6ed",
   "metadata": {},
   "outputs": [],
   "source": [
    "for character in 'cool text':\n",
    "  print(character)"
   ]
  },
  {
   "cell_type": "code",
   "execution_count": null,
   "id": "ba7007e0",
   "metadata": {},
   "outputs": [],
   "source": [
    "#Lets define a list\n",
    "price_list = [10.0, 15.0, 21.0,5.5]\n",
    "\n",
    "#then sum the items up\n",
    "total = 0\n",
    "\n",
    "for price in price_list:\n",
    "  current_total = total\n",
    "  total = price + total\n",
    "  print('Current Total:', current_total, 'Price:', price, 'New Total Price:', total)\n",
    "  "
   ]
  },
  {
   "cell_type": "markdown",
   "id": "1be0c3b5",
   "metadata": {},
   "source": [
    "Sometimes, we might want to know which item / loop we are at. There is an easy way to solve this with python."
   ]
  },
  {
   "cell_type": "code",
   "execution_count": null,
   "id": "633fbb5f",
   "metadata": {},
   "outputs": [],
   "source": [
    "total = 0\n",
    "\n",
    "for index, price in enumerate(price_list):\n",
    "  current_total = total\n",
    "  total = price + total\n",
    "  print('Loop:', index, 'Current Total:', current_total, 'Price:', price, 'New Total Price:', total)"
   ]
  },
  {
   "cell_type": "markdown",
   "id": "586fc3c9",
   "metadata": {},
   "source": [
    "There are also times you might want to stop the loop halfway."
   ]
  },
  {
   "cell_type": "code",
   "execution_count": null,
   "id": "8e49f672",
   "metadata": {},
   "outputs": [],
   "source": [
    "total = 0\n",
    "\n",
    "#stop the loop if we are at loop 2\n",
    "for index, price in enumerate(price_list):\n",
    "  current_total = total\n",
    "  total = price + total\n",
    "  print('Loop:', index, 'Current Total:', current_total, 'Price:', price, 'New Total Price:', total)\n",
    "  \n",
    "  # this will be covered in the next notebook 4.\n",
    "  if index == 2:\n",
    "    break"
   ]
  },
  {
   "cell_type": "markdown",
   "id": "fb75c0ee",
   "metadata": {},
   "source": [
    "## While Loop\n",
    "\n",
    "While loops are slightly different from For loops in terms of syntax but works the same way. The following is a simple example of While loop."
   ]
  },
  {
   "cell_type": "code",
   "execution_count": null,
   "id": "4893982d",
   "metadata": {},
   "outputs": [],
   "source": [
    "#lets do some sum again.\n",
    "\n",
    "n = 5\n",
    "\n",
    "total = 0\n",
    "\n",
    "while n != 0:\n",
    "  total = total + 5\n",
    "  n = n - 1\n",
    "  print('Current Total:', total, 'n:', n)\n",
    "  \n",
    "  "
   ]
  },
  {
   "cell_type": "markdown",
   "id": "627531d4",
   "metadata": {},
   "source": [
    "Lets see how we mimic the same function as the for loop for looping items."
   ]
  },
  {
   "cell_type": "code",
   "execution_count": null,
   "id": "5c060b74",
   "metadata": {},
   "outputs": [],
   "source": [
    "n = 0\n",
    "total = 0\n",
    "\n",
    "while n != len(price_list):\n",
    "  current_total = total\n",
    "  price = price_list[n]\n",
    "  total = price + total\n",
    "  print('Current Total:', current_total, 'Price:', price, 'New Total Price:', total)\n",
    "  \n",
    "  #you need to have this line, if not, the looping never ends.\n",
    "  n = n + 1"
   ]
  },
  {
   "cell_type": "markdown",
   "id": "9e15ba76",
   "metadata": {},
   "source": [
    "## Try it yourself : Processing in Loop\n",
    "\n",
    "Given a list of order amounts below, calculate and show the GST for each amount."
   ]
  },
  {
   "cell_type": "code",
   "execution_count": null,
   "id": "5ccd2c42",
   "metadata": {},
   "outputs": [],
   "source": [
    "orders_list = [25.0,55.9,14.8]\n",
    "\n",
    "#code for your loop and show the GST amount for each order."
   ]
  }
 ],
 "metadata": {
  "kernelspec": {
   "display_name": "Python 3",
   "language": "python",
   "name": "python3"
  },
  "language_info": {
   "codemirror_mode": {
    "name": "ipython",
    "version": 3
   },
   "file_extension": ".py",
   "mimetype": "text/x-python",
   "name": "python",
   "nbconvert_exporter": "python",
   "pygments_lexer": "ipython3",
   "version": "3.9.6"
  }
 },
 "nbformat": 4,
 "nbformat_minor": 5
}
