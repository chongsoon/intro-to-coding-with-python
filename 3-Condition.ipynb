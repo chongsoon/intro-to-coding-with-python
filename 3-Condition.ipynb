{
 "cells": [
  {
   "cell_type": "markdown",
   "metadata": {},
   "source": [
    "# Conditional Statements, If...Else\n",
    "\n",
    "<a href=\"https://colab.research.google.com/github/chongsoon/intro-to-coding-with-python/blob/main/3-Condition.ipynb\" target=\"_parent\">\n",
    "  <img src=\"https://colab.research.google.com/assets/colab-badge.svg\" alt=\"Open In Colab\"/>\n",
    "</a>\n",
    "\n",
    "\n",
    "Conditions are used a lot in programming. Sometimes, requirements could be broken down into some if-else statements. Let us try running some if-else statements."
   ]
  },
  {
   "cell_type": "code",
   "execution_count": null,
   "metadata": {},
   "outputs": [],
   "source": [
    "#compare strings, try replacing the name.\n",
    "\n",
    "name = \"tom\"\n",
    "\n",
    "if name == \"tom\":\n",
    "  print(\"You are Tom.\")\n",
    "else:\n",
    "  print(\"You are not Tom.\")"
   ]
  },
  {
   "cell_type": "markdown",
   "metadata": {},
   "source": [
    "You could compare numbers too. The following conditions check if a number is larger than 10 or smaller than 10, and also if the number is 10."
   ]
  },
  {
   "cell_type": "code",
   "execution_count": null,
   "metadata": {},
   "outputs": [],
   "source": [
    "a = 10\n",
    "\n",
    "if a > 10:\n",
    "  print(\"a is larger than 10\")\n",
    "elif a < 10:\n",
    "  print(\"a is lesser than 10\")\n",
    "else:\n",
    "  print(\"a is 10\")"
   ]
  },
  {
   "cell_type": "markdown",
   "metadata": {},
   "source": [
    "We can also have multiple conditions such as the following, where we want to find a number larger than 10 and is an even number."
   ]
  },
  {
   "cell_type": "code",
   "execution_count": null,
   "metadata": {},
   "outputs": [],
   "source": [
    "a = 2\n",
    "\n",
    "if a >= 10 or a % 2 == 0:\n",
    "  print('a is either larger than or equals to 10 or it is an even number.')\n",
    "else:\n",
    "  print('a is smaller than 10 and is not even.')"
   ]
  },
  {
   "cell_type": "markdown",
   "metadata": {},
   "source": [
    "### Try it yourself\n",
    "\n",
    "Instead of comparing with a fixed number, you can compare both variables. Try rewriting the above and replace 10 with a variable named \"b\"."
   ]
  },
  {
   "cell_type": "code",
   "execution_count": null,
   "metadata": {},
   "outputs": [],
   "source": []
  }
 ],
 "metadata": {
  "kernelspec": {
   "display_name": "Python 3",
   "language": "python",
   "name": "python3"
  },
  "language_info": {
   "codemirror_mode": {
    "name": "ipython",
    "version": 3
   },
   "file_extension": ".py",
   "mimetype": "text/x-python",
   "name": "python",
   "nbconvert_exporter": "python",
   "pygments_lexer": "ipython3",
   "version": "3.9.6"
  }
 },
 "nbformat": 4,
 "nbformat_minor": 4
}
