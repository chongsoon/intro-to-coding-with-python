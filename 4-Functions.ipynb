{
 "cells": [
  {
   "cell_type": "markdown",
   "metadata": {},
   "source": [
    "# Functions\n",
    "\n",
    "Functions are blocks of codes that perform a specific function. Say for example take the following function that find the square of a number:"
   ]
  },
  {
   "cell_type": "code",
   "execution_count": null,
   "metadata": {},
   "outputs": [],
   "source": [
    "# Define a function by using def and then indicate the name.\n",
    "# num is the parameter of the function.\n",
    "def square(num):\n",
    "  # you can return values from the function, or you can just print the results.\n",
    "  return num ** 2\n",
    "\n",
    "# you can use the function as follows:\n",
    "x = 5\n",
    "x_square = square(x)\n",
    "\n",
    "print(x_square)"
   ]
  },
  {
   "cell_type": "markdown",
   "metadata": {},
   "source": [
    "### Try it yourself: GST Calculator as a function\n",
    "\n",
    "Lets create a function that calculate GST amount. Remember the GST calculator that you wrote in the previous practicals?"
   ]
  },
  {
   "cell_type": "code",
   "execution_count": null,
   "metadata": {},
   "outputs": [],
   "source": [
    "item_price = 10.0\n",
    "gst_amount = 0.0\n",
    "\n",
    "# define the function with name calculate_gst\n",
    "# you should have a parameter named price\n",
    "# execute your function and assign your results to gst_amount\n",
    "# gst rate should be 7%\n",
    "\n",
    "\n",
    "\n"
   ]
  }
 ],
 "metadata": {
  "kernelspec": {
   "display_name": "Python 3",
   "language": "python",
   "name": "python3"
  },
  "language_info": {
   "codemirror_mode": {
    "name": "ipython",
    "version": 3
   },
   "file_extension": ".py",
   "mimetype": "text/x-python",
   "name": "python",
   "nbconvert_exporter": "python",
   "pygments_lexer": "ipython3",
   "version": "3.7.6"
  }
 },
 "nbformat": 4,
 "nbformat_minor": 4
}
