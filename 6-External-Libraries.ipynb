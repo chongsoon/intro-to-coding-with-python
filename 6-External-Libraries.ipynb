{
 "cells": [
  {
   "cell_type": "markdown",
   "id": "ff6d4025",
   "metadata": {},
   "source": [
    "# 6. External Libraries\n",
    "\n",
    "<a href=\"https://colab.research.google.com/github/chongsoon/intro-to-coding-with-python/blob/main/6-External-Libraries.ipynb\" target=\"_parent\">\n",
    "  <img src=\"https://colab.research.google.com/assets/colab-badge.svg\" alt=\"Open In Colab\"/>\n",
    "</a>\n",
    "\n",
    "\n",
    "Up till now, we have been using what ever is available to us in Python.\n",
    "\n",
    "Sometimes, we need other people's help to solve our problem. For example, I need help in reading data from a website, or doing specific calculation on the data given to me.\n",
    "\n",
    "Instead of creating my own functions, I can use libraries/packages developed by other people specifically to solve my problem.\n",
    "\n",
    "Lets look at some common libraries that I use."
   ]
  },
  {
   "cell_type": "markdown",
   "id": "04ccb877",
   "metadata": {},
   "source": [
    "## Installed Libraries/Packages in this Environment\n",
    "\n",
    "Lets find out what has been installed on this environment by running the following code:"
   ]
  },
  {
   "cell_type": "code",
   "execution_count": null,
   "id": "2cbdb4bb",
   "metadata": {
    "tags": []
   },
   "outputs": [],
   "source": [
    "!conda list\n",
    "\n",
    "#If this code block fails, try the next one."
   ]
  },
  {
   "cell_type": "code",
   "execution_count": null,
   "id": "9c2450b0",
   "metadata": {
    "tags": []
   },
   "outputs": [],
   "source": [
    "!pip list"
   ]
  },
  {
   "cell_type": "markdown",
   "id": "947d2b58",
   "metadata": {},
   "source": [
    "You can see that a lot of packages have been installed. Let us try some of them."
   ]
  },
  {
   "cell_type": "markdown",
   "id": "9bb6b840",
   "metadata": {
    "tags": []
   },
   "source": [
    "## Getting data from web pages/api (Requests)\n",
    "\n",
    "Have you ever used apps such as bus apps that tell you when the arrival time is? Those information are actually retrieved from LTA web site.\n",
    "\n",
    "Of course in this practical, we will use some open and free website apis to get data.\n",
    "\n",
    "We can use Requests package to get data from web pages and process them in Python.\n",
    "\n",
    "Lets try it out."
   ]
  },
  {
   "cell_type": "markdown",
   "id": "af27b5d9",
   "metadata": {},
   "source": [
    "First, we have to tell Python that we want to use this library. In order to do that, we have to \"import\" it into this program."
   ]
  },
  {
   "cell_type": "code",
   "execution_count": null,
   "id": "88f4e9fe",
   "metadata": {},
   "outputs": [],
   "source": [
    "import requests\n",
    "import json"
   ]
  },
  {
   "cell_type": "markdown",
   "id": "c3c400c7-517e-4bf9-94a1-a774bd9b430a",
   "metadata": {},
   "source": [
    "Let us get data from Binance. Binance is a cryptocurrency exchange. Think of it like stock market for cryptocurrency like bitcoins. They have free public web api that we can get data from. We can start by declaring URL variables.\n",
    "\n",
    "[Reference to Binance API](https://github.com/binance/binance-spot-api-docs/blob/master/rest-api.md)"
   ]
  },
  {
   "cell_type": "code",
   "execution_count": null,
   "id": "e7d8ad1b",
   "metadata": {},
   "outputs": [],
   "source": [
    "url = 'https://api.binance.com/'\n",
    "exchange_info_url = url + 'api/v3/exchangeInfo'"
   ]
  },
  {
   "cell_type": "markdown",
   "id": "bbf87ce4-ebb6-436a-8c43-2c29a7498278",
   "metadata": {},
   "source": [
    "Next, we will use requests.get with the url as the parameter and execute the cell."
   ]
  },
  {
   "cell_type": "code",
   "execution_count": null,
   "id": "59cb8bbf-5c8e-4f1b-abb7-357f232b792d",
   "metadata": {},
   "outputs": [],
   "source": [
    "response = requests.get(exchange_info_url)"
   ]
  },
  {
   "cell_type": "markdown",
   "id": "ec9848a6-1ecd-4bba-bebf-d13d7c59d374",
   "metadata": {},
   "source": [
    "Then we will extract the data from the response into dictionary."
   ]
  },
  {
   "cell_type": "code",
   "execution_count": null,
   "id": "e16cd764-9cf3-452c-b1db-00fe8a28efcc",
   "metadata": {},
   "outputs": [],
   "source": [
    "response_data = response.json()"
   ]
  },
  {
   "cell_type": "markdown",
   "id": "ca7f11ee-9c86-4c2b-bf71-f068f81a8cca",
   "metadata": {},
   "source": [
    "Lets explore what the keys are in the dictionary."
   ]
  },
  {
   "cell_type": "code",
   "execution_count": null,
   "id": "63643676-8f6a-4583-9fef-d0e3cc8062c7",
   "metadata": {},
   "outputs": [],
   "source": [
    "print(response_data.keys())"
   ]
  },
  {
   "cell_type": "markdown",
   "id": "63bbca41-993d-4bdc-8a3b-06140382ab20",
   "metadata": {},
   "source": [
    "I wonder what is inside the \"symbols\" key."
   ]
  },
  {
   "cell_type": "code",
   "execution_count": null,
   "id": "22895b5d-35c8-4d0d-a536-f3f32f2f1539",
   "metadata": {},
   "outputs": [],
   "source": [
    "print(type(response_data['symbols']))"
   ]
  },
  {
   "cell_type": "markdown",
   "id": "959a4be5-7233-4e50-8360-d1cc0b17f1c9",
   "metadata": {},
   "source": [
    "Since it contains list, let us see what are the first 5 items in the list."
   ]
  },
  {
   "cell_type": "code",
   "execution_count": null,
   "id": "c8264d20-5e83-47d2-83ae-b61fa96a145d",
   "metadata": {},
   "outputs": [],
   "source": [
    "print(response_data['symbols'][:5])"
   ]
  },
  {
   "cell_type": "markdown",
   "id": "1732dd65-c5ee-4e29-9d9c-b23c87243966",
   "metadata": {},
   "source": [
    "That is still too much information, lets just inspect the first item."
   ]
  },
  {
   "cell_type": "code",
   "execution_count": null,
   "id": "671147d3-b491-4573-ade6-ba938b485884",
   "metadata": {},
   "outputs": [],
   "source": [
    "print(response_data['symbols'][0])"
   ]
  },
  {
   "cell_type": "markdown",
   "id": "06a1afe5-ea3e-4d4c-9517-4a48da3cf8a6",
   "metadata": {},
   "source": [
    "### Try it yourself: Get the type of data\n",
    "\n",
    "This is definitely more manageable. It seems like dictionary types are contained in the list. Are you able to confirm that through code? Print out what is the **type** of the **first** item in the list."
   ]
  },
  {
   "cell_type": "code",
   "execution_count": null,
   "id": "660b9171-47ce-4fa0-87e9-a9d66c9dcfe6",
   "metadata": {},
   "outputs": [],
   "source": [
    "#Type in your code here to print the type of the first item in the list.\n",
    "\n",
    "\n"
   ]
  },
  {
   "cell_type": "markdown",
   "id": "1a80d126-047b-4cdf-acc7-476907176d54",
   "metadata": {},
   "source": [
    "### Try it yourself: Find the crypto!\n",
    "\n",
    "How can I find the crypto information in such a long list of items? Do you have any idea?\n",
    "\n",
    "Find information on Shiba Inu Coin (Symbol: SHIBUSDT), since Elon Musk's [tweet](https://twitter.com/elonmusk/status/1444840184500129797?s=20) increased the price of the coin recently."
   ]
  },
  {
   "cell_type": "code",
   "execution_count": null,
   "id": "c4d323c2-8a52-4330-b321-cbb054fba60b",
   "metadata": {},
   "outputs": [],
   "source": [
    "coin_list = response_data['symbols']\n",
    "\n",
    "#Type your code below, get information on \"SHIBUSDT\" coin.\n",
    "\n"
   ]
  },
  {
   "cell_type": "markdown",
   "id": "1581c6de-f4b8-474d-9e49-2e885f5a5b29",
   "metadata": {},
   "source": [
    "We can find the crypto, but there are a lot of information. If we only want to find the price of the crypto, we can refer to this [link](https://github.com/binance/binance-spot-api-docs/blob/master/rest-api.md#symbol-price-ticker) to find the price of the crypto."
   ]
  },
  {
   "cell_type": "code",
   "execution_count": null,
   "id": "0989d9b3-bad9-4d67-a8b3-67ce367ec755",
   "metadata": {},
   "outputs": [],
   "source": [
    "symbol_ticker_price_url = url + 'api/v3/ticker/price'\n",
    "symbol_ticker_price_url"
   ]
  },
  {
   "cell_type": "code",
   "execution_count": null,
   "id": "210e3088-d719-4af2-b13f-551e63ceda08",
   "metadata": {},
   "outputs": [],
   "source": [
    "price_request = requests.get(symbol_ticker_price_url)\n",
    "price_request.json()"
   ]
  },
  {
   "cell_type": "markdown",
   "id": "9ea10332-2a31-471f-943a-57c71272d354",
   "metadata": {},
   "source": [
    "Oh no, it is loading everything...Is there a way to just get the Shiba price? According to the documentation, we can add a parameter to find the price of a particular symbol. Let us see how we can do that."
   ]
  },
  {
   "cell_type": "markdown",
   "id": "31a53320-8988-496a-ae32-9d9e7733950a",
   "metadata": {},
   "source": [
    "Lets create a param payload."
   ]
  },
  {
   "cell_type": "code",
   "execution_count": null,
   "id": "f155253d-b814-4c90-b526-be9ad67ef69b",
   "metadata": {},
   "outputs": [],
   "source": [
    "symbol_parameter = {'symbol': 'SHIBUSDT'}"
   ]
  },
  {
   "cell_type": "markdown",
   "id": "5ef93d66-6571-460b-a480-f446ee27cdf7",
   "metadata": {},
   "source": [
    "Then, use the same request, but add the symbol_paremeter that we created."
   ]
  },
  {
   "cell_type": "code",
   "execution_count": null,
   "id": "8c80828b-9c02-48ef-af31-5a29266fd239",
   "metadata": {},
   "outputs": [],
   "source": [
    "price_request = requests.get(symbol_ticker_price_url, params=symbol_parameter)\n",
    "price_request.json()"
   ]
  },
  {
   "cell_type": "markdown",
   "id": "f098858c-3733-4af4-860c-22ee51b3084e",
   "metadata": {},
   "source": [
    "Cool, now we are able to see the price of Shiba Crypto.\n",
    "\n",
    "So far, we have used \"requests\" package to get data from website. There are a lot of other packages out there that could solve the problems that you encounter. Feel free to explore.\n",
    "\n",
    "- [Python Package Repository](https://pypi.org/)\n",
    "- [Conda Package Repository](https://anaconda.org/anaconda/repo)\n",
    "\n",
    "Proceed to the next tutorial (last one) to learn simple data analysis."
   ]
  },
  {
   "cell_type": "code",
   "execution_count": null,
   "id": "c4e8418f-1dc4-4b36-9451-213a8738588f",
   "metadata": {},
   "outputs": [],
   "source": []
  }
 ],
 "metadata": {
  "kernelspec": {
   "display_name": "Python 3",
   "language": "python",
   "name": "python3"
  },
  "language_info": {
   "codemirror_mode": {
    "name": "ipython",
    "version": 3
   },
   "file_extension": ".py",
   "mimetype": "text/x-python",
   "name": "python",
   "nbconvert_exporter": "python",
   "pygments_lexer": "ipython3",
   "version": "3.9.6"
  }
 },
 "nbformat": 4,
 "nbformat_minor": 5
}
