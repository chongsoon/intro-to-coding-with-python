{
 "cells": [
  {
   "cell_type": "markdown",
   "id": "ec8e830b-d341-4145-8f77-f42dfd305435",
   "metadata": {
    "tags": []
   },
   "source": [
    "# 7. Reading a file...simple Data Analysis\n",
    "\n",
    "<a href=\"https://colab.research.google.com/github/chongsoon/intro-to-coding-with-python/blob/main/7-Reading-A-File.ipynb\" target=\"_parent\">\n",
    "  <img src=\"https://colab.research.google.com/assets/colab-badge.svg\" alt=\"Open In Colab\"/>\n",
    "</a>\n",
    "\n",
    "This tutorial is more than just reading a file. It involves the following:\n",
    "\n",
    "- Downloading a file.\n",
    "- Unzipping a file.\n",
    "- Exploring the data in the data file.\n",
    "- Simple charting of data.\n",
    "\n",
    "The whole tutorial is guided, follow through every cell, make some changes to the cell according to your requirements.\n",
    "\n",
    "You are looking for a resale flat, and you want to get some idea on HDB flat costs in Singapore. You found the resale HDB data at [data.gov.sg](https://data.gov.sg/dataset/resale-flat-prices).\n",
    "\n",
    "When you go to that link, you found out that there are so much data inside. Of course, you can use excel to look at the file. But since you learn Python, you will try to use that to analyse the file.\n",
    "\n",
    "Lets start by downloading the file below."
   ]
  },
  {
   "cell_type": "code",
   "execution_count": null,
   "id": "8078c9b3-140c-4885-816b-4f1ea0fea55c",
   "metadata": {},
   "outputs": [],
   "source": [
    "# IMPORTANT!!! Only run this code if you have wget installed in your system. When running in Colab, the command should work.\n",
    "\n",
    "!wget -O data.zip https://data.gov.sg/dataset/7a339d20-3c57-4b11-a695-9348adfd7614/download"
   ]
  },
  {
   "cell_type": "markdown",
   "id": "ac3f90c9-59a1-4eb1-8592-10c5890c55d0",
   "metadata": {},
   "source": [
    "We downloaded the file as data.zip. We will go ahead and unzip the files into a data folder."
   ]
  },
  {
   "cell_type": "code",
   "execution_count": null,
   "id": "d09a35ad-ae22-4cf2-a2ca-2740d6b18709",
   "metadata": {},
   "outputs": [],
   "source": [
    "import zipfile\n",
    "\n",
    "with zipfile.ZipFile('data.zip', 'r') as zip:\n",
    "  zip.extractall('./data/')"
   ]
  },
  {
   "cell_type": "markdown",
   "id": "70092411-f453-4b64-b8a0-e8641747575a",
   "metadata": {},
   "source": [
    "Lets start by the whole process by finding out how many files there are."
   ]
  },
  {
   "cell_type": "code",
   "execution_count": null,
   "id": "47d31429-53ca-42df-a8b3-1b111536829c",
   "metadata": {},
   "outputs": [],
   "source": [
    "import os\n",
    "\n",
    "data_folder_path = './data'\n",
    "\n",
    "file_list = os.listdir(data_folder_path)\n",
    "file_list"
   ]
  },
  {
   "cell_type": "code",
   "execution_count": null,
   "id": "8b1b37de-f72a-4b07-aca9-dd1822f256ae",
   "metadata": {},
   "outputs": [],
   "source": [
    "print('There are', len(file_list), 'files.')\n",
    "print('Which one should we use then?')"
   ]
  },
  {
   "cell_type": "markdown",
   "id": "4793ce25-7b80-41fa-beab-ee87d5edb932",
   "metadata": {},
   "source": [
    "Lets use the latest file."
   ]
  },
  {
   "cell_type": "code",
   "execution_count": null,
   "id": "e5741802-8491-40ad-a562-66c63749f38c",
   "metadata": {},
   "outputs": [],
   "source": [
    "data_file = './data/resale-flat-prices-based-on-registration-date-from-jan-2017-onwards.csv'"
   ]
  },
  {
   "cell_type": "code",
   "execution_count": null,
   "id": "177cf741-de0c-49c9-8ff5-702f63521cb1",
   "metadata": {},
   "outputs": [],
   "source": [
    "all_data = []\n",
    "\n",
    "with open(data_file, 'r') as file:\n",
    "  all_data = file.readlines()"
   ]
  },
  {
   "cell_type": "markdown",
   "id": "59c38aba-d3e9-4437-8c95-33fe17f141e2",
   "metadata": {},
   "source": [
    "It is that simple, just read a file and store everything into list. Or is it? Let us see the first 5 items in the list."
   ]
  },
  {
   "cell_type": "code",
   "execution_count": null,
   "id": "c878e831-485d-4c36-bc9e-b6052418486a",
   "metadata": {},
   "outputs": [],
   "source": [
    "all_data[:5]"
   ]
  },
  {
   "cell_type": "markdown",
   "id": "8dbf6096-fd91-4326-80d6-49e85c0d0dcb",
   "metadata": {},
   "source": [
    "Ok, this is a problem, how are we going to extract the price from the file? Is there a library that can help us?\n",
    "\n",
    "Yes!"
   ]
  },
  {
   "cell_type": "markdown",
   "id": "5b8bb898-52da-4dd8-b5dc-24f87a96744d",
   "metadata": {},
   "source": [
    "## Pandas for simple analysis!\n",
    "\n",
    "We can use Pandas package to understand the HDB file better. First we shall import the package and load the file."
   ]
  },
  {
   "cell_type": "code",
   "execution_count": null,
   "id": "a4d37e5c-2b5d-4b87-a26f-f7532b1228ed",
   "metadata": {},
   "outputs": [],
   "source": [
    "#this looks different from requests. we are just importing the package and assigning a name to it. easier to type \"pd\" than \"pandas\" everytime.\n",
    "import pandas as pd"
   ]
  },
  {
   "cell_type": "code",
   "execution_count": null,
   "id": "21f98a0f-a491-49d7-8bed-db224c19c1c7",
   "metadata": {},
   "outputs": [],
   "source": [
    "hdb_price_df = pd.read_csv(data_file)"
   ]
  },
  {
   "cell_type": "markdown",
   "id": "8719dea5-7efe-4b92-92a6-9d7c166b353b",
   "metadata": {},
   "source": [
    "The file is a csv file, therefore we just use Pandas to read it as csv."
   ]
  },
  {
   "cell_type": "code",
   "execution_count": null,
   "id": "02ffa5b7-f98f-4231-9e2c-b16c130cb92a",
   "metadata": {},
   "outputs": [],
   "source": [
    "type(hdb_price_df)"
   ]
  },
  {
   "cell_type": "markdown",
   "id": "ced2dbd6-7e31-4026-900c-a46054a98e1a",
   "metadata": {},
   "source": [
    "Notice, how the type is a DataFrame. A DataFrame is nothing more than a tabular data that is easy to work with in Python.\n",
    "\n",
    "What should we do next? Lets get Pandas to give us more information on the data."
   ]
  },
  {
   "cell_type": "code",
   "execution_count": null,
   "id": "a75e4b09-d350-4632-9a00-63b041bae16e",
   "metadata": {},
   "outputs": [],
   "source": [
    "hdb_price_df.info()"
   ]
  },
  {
   "cell_type": "markdown",
   "id": "fceacb4c-75c2-4726-a214-b80a7b7f6f91",
   "metadata": {},
   "source": [
    "We can also get Pandas to give us some statistics on the numbers by \"describing\" the data."
   ]
  },
  {
   "cell_type": "code",
   "execution_count": null,
   "id": "cad84a5b-db70-4b7b-bd66-504b6f99c272",
   "metadata": {},
   "outputs": [],
   "source": [
    "hdb_price_df.describe()"
   ]
  },
  {
   "cell_type": "markdown",
   "id": "a0361986-0350-4fe0-9e8f-f7cf55838cfc",
   "metadata": {},
   "source": [
    "This gives you an idea on the floor area, commencement date and resale price. The date looks weird, but this is something we can take care of separately."
   ]
  },
  {
   "cell_type": "markdown",
   "id": "45d19b58-3508-43c5-bec4-08c389c9bb00",
   "metadata": {},
   "source": [
    "We can also get Pandas to show us the first few records in the data."
   ]
  },
  {
   "cell_type": "code",
   "execution_count": null,
   "id": "25d8dee9-14fc-4cd8-839d-a822dab42138",
   "metadata": {},
   "outputs": [],
   "source": [
    "hdb_price_df.head()"
   ]
  },
  {
   "cell_type": "markdown",
   "id": "68475d8d-a515-473a-9521-53bd06f37f52",
   "metadata": {},
   "source": [
    "I wonder how many towns there are?"
   ]
  },
  {
   "cell_type": "code",
   "execution_count": null,
   "id": "dcaa134d-bb1b-48c5-acab-ac3c399e2805",
   "metadata": {},
   "outputs": [],
   "source": [
    "hdb_price_df['town'].unique()"
   ]
  },
  {
   "cell_type": "markdown",
   "id": "de6b6a74-8d33-4bd1-8871-97568a2cfe08",
   "metadata": {},
   "source": [
    "Since we are in the jurong east region, let us filter out JURONG EAST town in the data."
   ]
  },
  {
   "cell_type": "code",
   "execution_count": null,
   "id": "27346d22-70f5-4ff9-991b-a73941f5e940",
   "metadata": {},
   "outputs": [],
   "source": [
    "jurong_east_hdb_price_df = hdb_price_df[hdb_price_df.town == 'JURONG EAST']\n",
    "\n",
    "jurong_east_hdb_price_df.head()"
   ]
  },
  {
   "cell_type": "markdown",
   "id": "9f16852d-ff32-4e4a-9aa5-b4d73dc25d0a",
   "metadata": {},
   "source": [
    "We can also further filter for two columns only such as follows."
   ]
  },
  {
   "cell_type": "code",
   "execution_count": null,
   "id": "2e74b500-9da0-40d5-a7e3-8152f82d05d5",
   "metadata": {},
   "outputs": [],
   "source": [
    "columns_filter = ['floor_area_sqm', 'resale_price']\n",
    "\n",
    "jurong_east_hdb_price_df[columns_filter]"
   ]
  },
  {
   "cell_type": "markdown",
   "id": "42bd88e2-7d7b-481a-98b2-fc999833d36f",
   "metadata": {},
   "source": [
    "And we can describe the filtered columns."
   ]
  },
  {
   "cell_type": "code",
   "execution_count": null,
   "id": "6d35eb0a-789a-4a92-bafb-452b28ea1cc3",
   "metadata": {},
   "outputs": [],
   "source": [
    "jurong_east_hdb_price_df[columns_filter].describe()"
   ]
  },
  {
   "cell_type": "markdown",
   "id": "1d9c1f4d-037f-460b-85a2-d3ed274b96ea",
   "metadata": {},
   "source": [
    "Voila! With a few lines of code, I know the following (Fill in the blanks):\n",
    "\n",
    "- There are ??? JURONG EAST HDBs registered for sale from 2017 onwards.\n",
    "- The average floor area is ??? sqm.\n",
    "- The max size is ??? sqm and the min size is ??? sqm.\n",
    "- The average resale price is around ???.\n",
    "- The most expensive is about ???, and the lease expensive is around ???."
   ]
  },
  {
   "cell_type": "markdown",
   "id": "df843240-fa13-45d5-98a2-f6243d5b1645",
   "metadata": {},
   "source": [
    "## Try it yourself: Filtering more data, what are the details of the most expensive flat?\n",
    "\n",
    "I am definitely curious about the most expensive flat. Try to filter the most expensive flat."
   ]
  },
  {
   "cell_type": "code",
   "execution_count": null,
   "id": "0e942783-6043-41ac-a23c-a30f12cf1cd4",
   "metadata": {},
   "outputs": [],
   "source": [
    "# Type your code here, replace None with your code.\n",
    "\n",
    "expensive_flat_df = None\n",
    "\n",
    "expensive_flat_df"
   ]
  },
  {
   "cell_type": "markdown",
   "id": "4f8bbe1c-cdec-4c97-b67f-f8423e38c8ce",
   "metadata": {},
   "source": [
    "## Simple Charting with Python\n",
    "\n",
    "\n",
    "Looking at numbers are cool, but are we able to plot a chart to find the relationship between the size of the flat and the price?\n",
    "\n",
    "Let us try to plot a chart on this and learn about a new package, the matplotlib."
   ]
  },
  {
   "cell_type": "code",
   "execution_count": null,
   "id": "c4dfaeaa-9f7d-43f6-bf14-22242d31ba06",
   "metadata": {},
   "outputs": [],
   "source": [
    "import matplotlib.pyplot as plt"
   ]
  },
  {
   "cell_type": "code",
   "execution_count": null,
   "id": "2cc33ec0-be70-4c35-9ea4-22c4d23703d5",
   "metadata": {},
   "outputs": [],
   "source": [
    "plt.figure(figsize=(15,10))\n",
    "\n",
    "plt.scatter(x = jurong_east_hdb_price_df['floor_area_sqm'], y = jurong_east_hdb_price_df['resale_price'])\n",
    "\n",
    "plt.xlabel('Floor Area (SQM)')\n",
    "plt.ylabel('Resale Price')\n",
    "\n",
    "plt.show()"
   ]
  },
  {
   "cell_type": "markdown",
   "id": "a9a7649b-551f-4e35-8b9c-61557eab582d",
   "metadata": {},
   "source": [
    "With that you can start to see some kind of relationship between the price and the size of the flat with few lines of code."
   ]
  },
  {
   "cell_type": "markdown",
   "id": "9a09d5d9-1031-4522-92ea-02dd173c0001",
   "metadata": {},
   "source": [
    "# End\n",
    "\n",
    "Is amazing that we manage to reach this stage of the tutorial. This is really just some taste of what you can use Python for.\n",
    "\n",
    "This repository will always be around. How can we move forward from here?\n",
    "\n",
    "If you have questions, you can reach me through [LinkedIn](https://www.linkedin.com/in/ngchongsoon/).\n",
    "\n",
    "If you want to learn more about coding in Python, you can refer to the following:\n",
    "\n",
    "- [DataCamp: A place to learn data skills](https://www.datacamp.com/)\n",
    "- If you are feeling adventurous and want to build your own web application. You can refer to this [resource](https://realpython.com/flask-by-example-part-1-project-setup/).\n",
    "- Or if you encounter any error messages and need help, there is always [Google](https://www.google.com.sg/) or [StackOverflow](https://stackoverflow.com/questions/tagged/python).\n",
    "\n",
    "Have fun! =)"
   ]
  },
  {
   "cell_type": "code",
   "execution_count": null,
   "id": "12609f55-4b52-47ca-9811-3e6a1ffec042",
   "metadata": {},
   "outputs": [],
   "source": []
  }
 ],
 "metadata": {
  "kernelspec": {
   "display_name": "Python 3",
   "language": "python",
   "name": "python3"
  },
  "language_info": {
   "codemirror_mode": {
    "name": "ipython",
    "version": 3
   },
   "file_extension": ".py",
   "mimetype": "text/x-python",
   "name": "python",
   "nbconvert_exporter": "python",
   "pygments_lexer": "ipython3",
   "version": "3.9.6"
  }
 },
 "nbformat": 4,
 "nbformat_minor": 5
}
